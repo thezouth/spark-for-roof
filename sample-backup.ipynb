{
 "cells": [
  {
   "cell_type": "markdown",
   "metadata": {},
   "source": [
    "## Is my Spark working?"
   ]
  },
  {
   "cell_type": "code",
   "execution_count": 1,
   "metadata": {
    "collapsed": false
   },
   "outputs": [
    {
     "data": {
      "text/plain": [
       "<pyspark.context.SparkContext at 0x101303a20>"
      ]
     },
     "execution_count": 1,
     "metadata": {},
     "output_type": "execute_result"
    }
   ],
   "source": [
    "sc"
   ]
  },
  {
   "cell_type": "markdown",
   "metadata": {},
   "source": [
    "## Read Input file"
   ]
  },
  {
   "cell_type": "markdown",
   "metadata": {},
   "source": [
    "Spark can be read data from various data source e.g. RDBMS database, Radis, Cassandra, TextFile, HDFS or even local iterable object.\n",
    "\n",
    "Let's try text file."
   ]
  },
  {
   "cell_type": "code",
   "execution_count": 138,
   "metadata": {
    "collapsed": false
   },
   "outputs": [
    {
     "data": {
      "text/plain": [
       "./small-dataset.tsv MapPartitionsRDD[219] at textFile at NativeMethodAccessorImpl.java:-2"
      ]
     },
     "execution_count": 138,
     "metadata": {},
     "output_type": "execute_result"
    }
   ],
   "source": [
    "lines = sc.textFile('./small-dataset.tsv')\n",
    "lines"
   ]
  },
  {
   "cell_type": "markdown",
   "metadata": {},
   "source": [
    "What did I read?"
   ]
  },
  {
   "cell_type": "code",
   "execution_count": 3,
   "metadata": {
    "collapsed": false
   },
   "outputs": [
    {
     "data": {
      "text/plain": [
       "['2017-04-11 16:35:24.955238|4.132.3.227|GET|/projects/7490|d35704340a5ca21fa12bcdb99651a1f510ee4dc3| ',\n",
       " '2017-04-11 03:50:38.730238|5.191.159.175|GET|/|7c12b22a7d55f9529deab244cdd7eb225dd4b02d| ',\n",
       " '2017-04-11 04:25:37.822238|1.139.27.171|GET|/projects/14906|916174bb438772d4d13306c3ed1eb4b3133f83b5| ',\n",
       " '2017-04-11 08:12:01.029238|5.161.226.66|GET|/projects/45853/back|87dd42d98bb43aa4f906573ad9aec92224b4adcb| ',\n",
       " '2017-04-11 09:17:23.028238|5.161.31.31|GET|/projects/49125|22cc38b17a0fd64567a8dee941866bd49475f204|963359 ']"
      ]
     },
     "execution_count": 3,
     "metadata": {},
     "output_type": "execute_result"
    }
   ],
   "source": [
    "lines.take(5)"
   ]
  },
  {
   "cell_type": "markdown",
   "metadata": {},
   "source": [
    "## Map / Filter"
   ]
  },
  {
   "cell_type": "code",
   "execution_count": 16,
   "metadata": {
    "collapsed": false
   },
   "outputs": [
    {
     "name": "stdout",
     "output_type": "stream",
     "text": [
      "2017-04-10 18:20:26.046097|2.17.153.185|GET|/|9752f259fe0a8db86f1edd7d5a06972934d166ae|180921 \n",
      "2017-04-11 01:33:40.721097|4.57.103.71|GET|/|8961cde5716869388e6529e9755a4d69090e7d8c|466503 \n",
      "2017-04-11 13:34:23.421097|5.42.151.183|GET|/projects/20112|2171ba8e62627d1a4b5e177d8ad17c77f04d2452| \n",
      "2017-04-10 16:18:01.028097|4.103.153.153|GET|/projects/11248|3634c853d04492efbe69a92b286f340d0c996eb4|803993 \n",
      "2017-04-11 09:00:57.153097|2.161.102.38|GET|/projects/29258|9bd18f8a22c520623da5e58a1511cd51fe63f2b6| \n"
     ]
    }
   ],
   "source": [
    "for i in lines.take(5):\n",
    "    print(i)"
   ]
  },
  {
   "cell_type": "code",
   "execution_count": 14,
   "metadata": {
    "collapsed": true
   },
   "outputs": [],
   "source": [
    "lines.foreach(print)"
   ]
  },
  {
   "cell_type": "code",
   "execution_count": 139,
   "metadata": {
    "collapsed": true
   },
   "outputs": [],
   "source": [
    "from collections import namedtuple\n",
    "import datetime as dt\n",
    "\n",
    "AccessLog = namedtuple('AccessLog', ['ip_address', 'path', 'method', 'timestamp', 'session_id', 'member_id'])\n",
    "\n",
    "def parse_log(log_str):\n",
    "    spiltted = log_str.split('|')\n",
    "    return AccessLog(\n",
    "        timestamp=dt.datetime.strptime(spiltted[0], '%Y-%m-%d %H:%M:%S.%f'),\n",
    "        ip_address=parse_ip_addr(spiltted[1]),\n",
    "        method=spiltted[2],\n",
    "        path=spiltted[3],\n",
    "        session_id=spiltted[4],\n",
    "        member_id=spiltted[5]\n",
    "    )"
   ]
  },
  {
   "cell_type": "code",
   "execution_count": 140,
   "metadata": {
    "collapsed": true
   },
   "outputs": [],
   "source": [
    "logs = lines.map(parse_log)"
   ]
  },
  {
   "cell_type": "code",
   "execution_count": 19,
   "metadata": {
    "collapsed": false
   },
   "outputs": [],
   "source": [
    "ll = logs.take(10000)"
   ]
  },
  {
   "cell_type": "code",
   "execution_count": 5,
   "metadata": {
    "collapsed": false
   },
   "outputs": [],
   "source": [
    "get_logs = logs.filter(lambda log: log.method == 'GET')"
   ]
  },
  {
   "cell_type": "code",
   "execution_count": 141,
   "metadata": {
    "collapsed": false
   },
   "outputs": [
    {
     "data": {
      "text/plain": [
       "1452849"
      ]
     },
     "execution_count": 141,
     "metadata": {},
     "output_type": "execute_result"
    }
   ],
   "source": [
    "view_count = get_logs.map(lambda _: 1).reduce(lambda acc, i: acc + i)\n",
    "view_count"
   ]
  },
  {
   "cell_type": "code",
   "execution_count": 142,
   "metadata": {
    "collapsed": false
   },
   "outputs": [
    {
     "data": {
      "text/plain": [
       "765300"
      ]
     },
     "execution_count": 142,
     "metadata": {},
     "output_type": "execute_result"
    }
   ],
   "source": [
    "session_count = get_logs.groupBy(lambda log: log.session_id).map(lambda _: 1).reduce(lambda acc, i: acc + i)\n",
    "session_count"
   ]
  },
  {
   "cell_type": "code",
   "execution_count": 8,
   "metadata": {
    "collapsed": false
   },
   "outputs": [
    {
     "data": {
      "text/plain": [
       "765300"
      ]
     },
     "execution_count": 8,
     "metadata": {},
     "output_type": "execute_result"
    }
   ],
   "source": [
    "session_count = get_logs.keyBy(lambda log: log.session_id)\\\n",
    "                        .mapValues(lambda _: 1)\\\n",
    "                        .reduceByKey(lambda acc, i: 1)\\\n",
    "                        .map(lambda t: t[1])\\\n",
    "                        .reduce(lambda acc, i: acc + i)\n",
    "        \n",
    "session_count"
   ]
  },
  {
   "cell_type": "code",
   "execution_count": 9,
   "metadata": {
    "collapsed": true
   },
   "outputs": [],
   "source": [
    "req_per_session = get_logs.keyBy(lambda log: log.session_id)\\\n",
    "                        .mapValues(lambda _: 1)\\\n",
    "                        .reduceByKey(lambda acc, i: acc + i)\n",
    "\n",
    "req_per_session = req_per_session.persist()"
   ]
  },
  {
   "cell_type": "code",
   "execution_count": 13,
   "metadata": {
    "collapsed": false
   },
   "outputs": [
    {
     "data": {
      "text/plain": [
       "1452849"
      ]
     },
     "execution_count": 13,
     "metadata": {},
     "output_type": "execute_result"
    }
   ],
   "source": [
    "view_count = req_per_session.map(lambda t: t[1]).reduce(lambda acc, i: acc + i)\n",
    "view_count"
   ]
  },
  {
   "cell_type": "code",
   "execution_count": 11,
   "metadata": {
    "collapsed": false
   },
   "outputs": [
    {
     "data": {
      "text/plain": [
       "765300"
      ]
     },
     "execution_count": 11,
     "metadata": {},
     "output_type": "execute_result"
    }
   ],
   "source": [
    "session_count = req_per_session.map(lambda _: 1).reduce(lambda acc, i: acc + i)\n",
    "session_count"
   ]
  },
  {
   "cell_type": "code",
   "execution_count": 12,
   "metadata": {
    "collapsed": false
   },
   "outputs": [
    {
     "data": {
      "text/plain": [
       "3569227"
      ]
     },
     "execution_count": 12,
     "metadata": {},
     "output_type": "execute_result"
    }
   ],
   "source": [
    "sum_square = req_per_session.map(lambda t: t[1] ** 2)\\\n",
    "                     .reduce(lambda acc, i: acc + i)\n",
    "sum_square"
   ]
  },
  {
   "cell_type": "code",
   "execution_count": 21,
   "metadata": {
    "collapsed": false
   },
   "outputs": [
    {
     "data": {
      "text/plain": [
       "1.898404547236378"
      ]
     },
     "execution_count": 21,
     "metadata": {},
     "output_type": "execute_result"
    }
   ],
   "source": [
    "average = view_count / session_count\n",
    "average"
   ]
  },
  {
   "cell_type": "code",
   "execution_count": 22,
   "metadata": {
    "collapsed": false
   },
   "outputs": [
    {
     "data": {
      "text/plain": [
       "1.0598874323169674"
      ]
     },
     "execution_count": 22,
     "metadata": {},
     "output_type": "execute_result"
    }
   ],
   "source": [
    "variance = (sum_square / session_count) - (average ** 2)\n",
    "variance"
   ]
  },
  {
   "cell_type": "markdown",
   "metadata": {},
   "source": [
    "# A Job has fixed cost"
   ]
  },
  {
   "cell_type": "code",
   "execution_count": 137,
   "metadata": {
    "collapsed": true
   },
   "outputs": [],
   "source": [
    "AccumulateData = namedtuple('AccumulateData', ['n', 'sum', 'sum_square'])\n",
    "\n",
    "ZERO_ACC = AccumulateData(0, 0, 0)\n",
    "\n",
    "def acc_stat(acc, new_val):\n",
    "    return AccumulateData(\n",
    "        n=acc.n + 1,\n",
    "        sum=acc.sum + new_val,\n",
    "        sum_square=acc.sum_square + new_val ** 2\n",
    "    )"
   ]
  },
  {
   "cell_type": "code",
   "execution_count": 15,
   "metadata": {
    "collapsed": false
   },
   "outputs": [
    {
     "data": {
      "text/plain": [
       "AccumulateData(n=3, sum=11, sum_square=59)"
      ]
     },
     "execution_count": 15,
     "metadata": {},
     "output_type": "execute_result"
    }
   ],
   "source": [
    "acc_stat(acc_stat(acc_stat(ZERO_ACC, 1), 3), 7)"
   ]
  },
  {
   "cell_type": "code",
   "execution_count": 16,
   "metadata": {
    "collapsed": true
   },
   "outputs": [],
   "source": [
    "def combined_stat(acc1, acc2):\n",
    "    return AccumulateData(\n",
    "        n=acc1.n + acc2.n,\n",
    "        sum=acc1.sum + acc2.sum,\n",
    "        sum_square=acc1.sum_square + acc2.sum_square\n",
    "    )"
   ]
  },
  {
   "cell_type": "code",
   "execution_count": 17,
   "metadata": {
    "collapsed": false
   },
   "outputs": [
    {
     "data": {
      "text/plain": [
       "AccumulateData(n=3, sum=11, sum_square=59)"
      ]
     },
     "execution_count": 17,
     "metadata": {},
     "output_type": "execute_result"
    }
   ],
   "source": [
    "acc1 = acc_stat(acc_stat(ZERO_ACC, 1), 3)\n",
    "acc2 = acc_stat(ZERO_ACC, 7)\n",
    "\n",
    "combined_stat(acc1, acc2)"
   ]
  },
  {
   "cell_type": "code",
   "execution_count": 18,
   "metadata": {
    "collapsed": false
   },
   "outputs": [
    {
     "data": {
      "text/plain": [
       "{'average': 1.898404547236378, 'variance': 1.0598874323169674}"
      ]
     },
     "execution_count": 18,
     "metadata": {},
     "output_type": "execute_result"
    }
   ],
   "source": [
    "def finalize_acc_stat(acc):\n",
    "    return {\n",
    "        'average': acc.sum / acc.n,\n",
    "        'variance': (acc.sum_square / acc.n) - (acc.sum / acc.n) ** 2\n",
    "    }\n",
    "\n",
    "finalize_acc_stat(AccumulateData(n=session_count, sum=view_count, sum_square=sum_square))"
   ]
  },
  {
   "cell_type": "code",
   "execution_count": 19,
   "metadata": {
    "collapsed": false
   },
   "outputs": [
    {
     "data": {
      "text/plain": [
       "AccumulateData(n=765300, sum=1452849, sum_square=3569227)"
      ]
     },
     "execution_count": 19,
     "metadata": {},
     "output_type": "execute_result"
    }
   ],
   "source": [
    "acc_val = req_per_session.map(lambda t: t[1])\\\n",
    "                         .aggregate(ZERO_ACC, acc_stat, combined_stat)\n",
    "acc_val"
   ]
  },
  {
   "cell_type": "code",
   "execution_count": 20,
   "metadata": {
    "collapsed": false
   },
   "outputs": [
    {
     "data": {
      "text/plain": [
       "{'average': 1.898404547236378, 'variance': 1.0598874323169674}"
      ]
     },
     "execution_count": 20,
     "metadata": {},
     "output_type": "execute_result"
    }
   ],
   "source": [
    "finalize_acc_stat(acc_val)"
   ]
  },
  {
   "cell_type": "markdown",
   "metadata": {},
   "source": [
    "## More realistic example"
   ]
  },
  {
   "cell_type": "code",
   "execution_count": 23,
   "metadata": {
    "collapsed": true
   },
   "outputs": [],
   "source": [
    "import re\n",
    "\n",
    "patterns = (\n",
    "    (re.compile(r'(/$)'), 'GET', 'LANDING'),\n",
    "    (re.compile(r'/projects/(\\d+)(/?)$'), 'GET', 'VIEW PRODUCT'),\n",
    "    (re.compile(r'/projects/(\\d+)/back(/?)$'), 'GET', 'READY TO BACK'),\n",
    "    (re.compile(r'/projects/(\\d+)/back(/?)$'), 'POST', 'BACKED')\n",
    ")\n",
    "\n",
    "def get_action(log):\n",
    "    for pattern in patterns:\n",
    "        if pattern[0].match(log.path) and log.method == pattern[1]:\n",
    "            return pattern[2]\n",
    "    return 'UNKNOWN'"
   ]
  },
  {
   "cell_type": "code",
   "execution_count": 26,
   "metadata": {
    "collapsed": false
   },
   "outputs": [
    {
     "data": {
      "text/plain": [
       "[('UNKNOWN', 56728),\n",
       " ('LANDING', 709462),\n",
       " ('READY TO BACK', 70787),\n",
       " ('BACKED', 7070),\n",
       " ('VIEW PRODUCT', 637371)]"
      ]
     },
     "execution_count": 26,
     "metadata": {},
     "output_type": "execute_result"
    }
   ],
   "source": [
    "count_by_action = (\n",
    "    logs.keyBy(get_action)\n",
    "        .mapValues(lambda _: 1)\n",
    "        .reduceByKey(lambda acc, i: acc + i)\n",
    "        .collect()\n",
    ")\n",
    "count_by_action"
   ]
  },
  {
   "cell_type": "code",
   "execution_count": 30,
   "metadata": {
    "collapsed": false
   },
   "outputs": [
    {
     "data": {
      "text/plain": [
       "[('LANDING', 709462),\n",
       " ('VIEW PRODUCT', 637371),\n",
       " ('READY TO BACK', 70787),\n",
       " ('BACKED', 7070)]"
      ]
     },
     "execution_count": 30,
     "metadata": {},
     "output_type": "execute_result"
    }
   ],
   "source": [
    "count_by_action = sorted(\n",
    "    filter(lambda item: item[0] != 'UNKNOWN', count_by_action),\n",
    "    key=lambda item: item[1],\n",
    "    reverse=True\n",
    ")\n",
    "\n",
    "count_by_action"
   ]
  },
  {
   "cell_type": "code",
   "execution_count": 68,
   "metadata": {
    "collapsed": true
   },
   "outputs": [],
   "source": [
    "%matplotlib notebook\n",
    "%run 'util.py'"
   ]
  },
  {
   "cell_type": "code",
   "execution_count": 32,
   "metadata": {
    "collapsed": false
   },
   "outputs": [
    {
     "name": "stdout",
     "output_type": "stream",
     "text": [
      "Help on function plot_bar in module __main__:\n",
      "\n",
      "plot_bar(label, data)\n",
      "    Plot a bar graph with one serie.\n",
      "    param label: list of label (any type)\n",
      "    param data: list of data (number only). Its length should be match with label\n",
      "\n"
     ]
    }
   ],
   "source": [
    "help(plot_bar)"
   ]
  },
  {
   "cell_type": "code",
   "execution_count": 33,
   "metadata": {
    "collapsed": false
   },
   "outputs": [
    {
     "data": {
      "application/javascript": [
       "/* Put everything inside the global mpl namespace */\n",
       "window.mpl = {};\n",
       "\n",
       "mpl.get_websocket_type = function() {\n",
       "    if (typeof(WebSocket) !== 'undefined') {\n",
       "        return WebSocket;\n",
       "    } else if (typeof(MozWebSocket) !== 'undefined') {\n",
       "        return MozWebSocket;\n",
       "    } else {\n",
       "        alert('Your browser does not have WebSocket support.' +\n",
       "              'Please try Chrome, Safari or Firefox ≥ 6. ' +\n",
       "              'Firefox 4 and 5 are also supported but you ' +\n",
       "              'have to enable WebSockets in about:config.');\n",
       "    };\n",
       "}\n",
       "\n",
       "mpl.figure = function(figure_id, websocket, ondownload, parent_element) {\n",
       "    this.id = figure_id;\n",
       "\n",
       "    this.ws = websocket;\n",
       "\n",
       "    this.supports_binary = (this.ws.binaryType != undefined);\n",
       "\n",
       "    if (!this.supports_binary) {\n",
       "        var warnings = document.getElementById(\"mpl-warnings\");\n",
       "        if (warnings) {\n",
       "            warnings.style.display = 'block';\n",
       "            warnings.textContent = (\n",
       "                \"This browser does not support binary websocket messages. \" +\n",
       "                    \"Performance may be slow.\");\n",
       "        }\n",
       "    }\n",
       "\n",
       "    this.imageObj = new Image();\n",
       "\n",
       "    this.context = undefined;\n",
       "    this.message = undefined;\n",
       "    this.canvas = undefined;\n",
       "    this.rubberband_canvas = undefined;\n",
       "    this.rubberband_context = undefined;\n",
       "    this.format_dropdown = undefined;\n",
       "\n",
       "    this.image_mode = 'full';\n",
       "\n",
       "    this.root = $('<div/>');\n",
       "    this._root_extra_style(this.root)\n",
       "    this.root.attr('style', 'display: inline-block');\n",
       "\n",
       "    $(parent_element).append(this.root);\n",
       "\n",
       "    this._init_header(this);\n",
       "    this._init_canvas(this);\n",
       "    this._init_toolbar(this);\n",
       "\n",
       "    var fig = this;\n",
       "\n",
       "    this.waiting = false;\n",
       "\n",
       "    this.ws.onopen =  function () {\n",
       "            fig.send_message(\"supports_binary\", {value: fig.supports_binary});\n",
       "            fig.send_message(\"send_image_mode\", {});\n",
       "            fig.send_message(\"refresh\", {});\n",
       "        }\n",
       "\n",
       "    this.imageObj.onload = function() {\n",
       "            if (fig.image_mode == 'full') {\n",
       "                // Full images could contain transparency (where diff images\n",
       "                // almost always do), so we need to clear the canvas so that\n",
       "                // there is no ghosting.\n",
       "                fig.context.clearRect(0, 0, fig.canvas.width, fig.canvas.height);\n",
       "            }\n",
       "            fig.context.drawImage(fig.imageObj, 0, 0);\n",
       "        };\n",
       "\n",
       "    this.imageObj.onunload = function() {\n",
       "        this.ws.close();\n",
       "    }\n",
       "\n",
       "    this.ws.onmessage = this._make_on_message_function(this);\n",
       "\n",
       "    this.ondownload = ondownload;\n",
       "}\n",
       "\n",
       "mpl.figure.prototype._init_header = function() {\n",
       "    var titlebar = $(\n",
       "        '<div class=\"ui-dialog-titlebar ui-widget-header ui-corner-all ' +\n",
       "        'ui-helper-clearfix\"/>');\n",
       "    var titletext = $(\n",
       "        '<div class=\"ui-dialog-title\" style=\"width: 100%; ' +\n",
       "        'text-align: center; padding: 3px;\"/>');\n",
       "    titlebar.append(titletext)\n",
       "    this.root.append(titlebar);\n",
       "    this.header = titletext[0];\n",
       "}\n",
       "\n",
       "\n",
       "\n",
       "mpl.figure.prototype._canvas_extra_style = function(canvas_div) {\n",
       "\n",
       "}\n",
       "\n",
       "\n",
       "mpl.figure.prototype._root_extra_style = function(canvas_div) {\n",
       "\n",
       "}\n",
       "\n",
       "mpl.figure.prototype._init_canvas = function() {\n",
       "    var fig = this;\n",
       "\n",
       "    var canvas_div = $('<div/>');\n",
       "\n",
       "    canvas_div.attr('style', 'position: relative; clear: both; outline: 0');\n",
       "\n",
       "    function canvas_keyboard_event(event) {\n",
       "        return fig.key_event(event, event['data']);\n",
       "    }\n",
       "\n",
       "    canvas_div.keydown('key_press', canvas_keyboard_event);\n",
       "    canvas_div.keyup('key_release', canvas_keyboard_event);\n",
       "    this.canvas_div = canvas_div\n",
       "    this._canvas_extra_style(canvas_div)\n",
       "    this.root.append(canvas_div);\n",
       "\n",
       "    var canvas = $('<canvas/>');\n",
       "    canvas.addClass('mpl-canvas');\n",
       "    canvas.attr('style', \"left: 0; top: 0; z-index: 0; outline: 0\")\n",
       "\n",
       "    this.canvas = canvas[0];\n",
       "    this.context = canvas[0].getContext(\"2d\");\n",
       "\n",
       "    var rubberband = $('<canvas/>');\n",
       "    rubberband.attr('style', \"position: absolute; left: 0; top: 0; z-index: 1;\")\n",
       "\n",
       "    var pass_mouse_events = true;\n",
       "\n",
       "    canvas_div.resizable({\n",
       "        start: function(event, ui) {\n",
       "            pass_mouse_events = false;\n",
       "        },\n",
       "        resize: function(event, ui) {\n",
       "            fig.request_resize(ui.size.width, ui.size.height);\n",
       "        },\n",
       "        stop: function(event, ui) {\n",
       "            pass_mouse_events = true;\n",
       "            fig.request_resize(ui.size.width, ui.size.height);\n",
       "        },\n",
       "    });\n",
       "\n",
       "    function mouse_event_fn(event) {\n",
       "        if (pass_mouse_events)\n",
       "            return fig.mouse_event(event, event['data']);\n",
       "    }\n",
       "\n",
       "    rubberband.mousedown('button_press', mouse_event_fn);\n",
       "    rubberband.mouseup('button_release', mouse_event_fn);\n",
       "    // Throttle sequential mouse events to 1 every 20ms.\n",
       "    rubberband.mousemove('motion_notify', mouse_event_fn);\n",
       "\n",
       "    rubberband.mouseenter('figure_enter', mouse_event_fn);\n",
       "    rubberband.mouseleave('figure_leave', mouse_event_fn);\n",
       "\n",
       "    canvas_div.on(\"wheel\", function (event) {\n",
       "        event = event.originalEvent;\n",
       "        event['data'] = 'scroll'\n",
       "        if (event.deltaY < 0) {\n",
       "            event.step = 1;\n",
       "        } else {\n",
       "            event.step = -1;\n",
       "        }\n",
       "        mouse_event_fn(event);\n",
       "    });\n",
       "\n",
       "    canvas_div.append(canvas);\n",
       "    canvas_div.append(rubberband);\n",
       "\n",
       "    this.rubberband = rubberband;\n",
       "    this.rubberband_canvas = rubberband[0];\n",
       "    this.rubberband_context = rubberband[0].getContext(\"2d\");\n",
       "    this.rubberband_context.strokeStyle = \"#000000\";\n",
       "\n",
       "    this._resize_canvas = function(width, height) {\n",
       "        // Keep the size of the canvas, canvas container, and rubber band\n",
       "        // canvas in synch.\n",
       "        canvas_div.css('width', width)\n",
       "        canvas_div.css('height', height)\n",
       "\n",
       "        canvas.attr('width', width);\n",
       "        canvas.attr('height', height);\n",
       "\n",
       "        rubberband.attr('width', width);\n",
       "        rubberband.attr('height', height);\n",
       "    }\n",
       "\n",
       "    // Set the figure to an initial 600x600px, this will subsequently be updated\n",
       "    // upon first draw.\n",
       "    this._resize_canvas(600, 600);\n",
       "\n",
       "    // Disable right mouse context menu.\n",
       "    $(this.rubberband_canvas).bind(\"contextmenu\",function(e){\n",
       "        return false;\n",
       "    });\n",
       "\n",
       "    function set_focus () {\n",
       "        canvas.focus();\n",
       "        canvas_div.focus();\n",
       "    }\n",
       "\n",
       "    window.setTimeout(set_focus, 100);\n",
       "}\n",
       "\n",
       "mpl.figure.prototype._init_toolbar = function() {\n",
       "    var fig = this;\n",
       "\n",
       "    var nav_element = $('<div/>')\n",
       "    nav_element.attr('style', 'width: 100%');\n",
       "    this.root.append(nav_element);\n",
       "\n",
       "    // Define a callback function for later on.\n",
       "    function toolbar_event(event) {\n",
       "        return fig.toolbar_button_onclick(event['data']);\n",
       "    }\n",
       "    function toolbar_mouse_event(event) {\n",
       "        return fig.toolbar_button_onmouseover(event['data']);\n",
       "    }\n",
       "\n",
       "    for(var toolbar_ind in mpl.toolbar_items) {\n",
       "        var name = mpl.toolbar_items[toolbar_ind][0];\n",
       "        var tooltip = mpl.toolbar_items[toolbar_ind][1];\n",
       "        var image = mpl.toolbar_items[toolbar_ind][2];\n",
       "        var method_name = mpl.toolbar_items[toolbar_ind][3];\n",
       "\n",
       "        if (!name) {\n",
       "            // put a spacer in here.\n",
       "            continue;\n",
       "        }\n",
       "        var button = $('<button/>');\n",
       "        button.addClass('ui-button ui-widget ui-state-default ui-corner-all ' +\n",
       "                        'ui-button-icon-only');\n",
       "        button.attr('role', 'button');\n",
       "        button.attr('aria-disabled', 'false');\n",
       "        button.click(method_name, toolbar_event);\n",
       "        button.mouseover(tooltip, toolbar_mouse_event);\n",
       "\n",
       "        var icon_img = $('<span/>');\n",
       "        icon_img.addClass('ui-button-icon-primary ui-icon');\n",
       "        icon_img.addClass(image);\n",
       "        icon_img.addClass('ui-corner-all');\n",
       "\n",
       "        var tooltip_span = $('<span/>');\n",
       "        tooltip_span.addClass('ui-button-text');\n",
       "        tooltip_span.html(tooltip);\n",
       "\n",
       "        button.append(icon_img);\n",
       "        button.append(tooltip_span);\n",
       "\n",
       "        nav_element.append(button);\n",
       "    }\n",
       "\n",
       "    var fmt_picker_span = $('<span/>');\n",
       "\n",
       "    var fmt_picker = $('<select/>');\n",
       "    fmt_picker.addClass('mpl-toolbar-option ui-widget ui-widget-content');\n",
       "    fmt_picker_span.append(fmt_picker);\n",
       "    nav_element.append(fmt_picker_span);\n",
       "    this.format_dropdown = fmt_picker[0];\n",
       "\n",
       "    for (var ind in mpl.extensions) {\n",
       "        var fmt = mpl.extensions[ind];\n",
       "        var option = $(\n",
       "            '<option/>', {selected: fmt === mpl.default_extension}).html(fmt);\n",
       "        fmt_picker.append(option)\n",
       "    }\n",
       "\n",
       "    // Add hover states to the ui-buttons\n",
       "    $( \".ui-button\" ).hover(\n",
       "        function() { $(this).addClass(\"ui-state-hover\");},\n",
       "        function() { $(this).removeClass(\"ui-state-hover\");}\n",
       "    );\n",
       "\n",
       "    var status_bar = $('<span class=\"mpl-message\"/>');\n",
       "    nav_element.append(status_bar);\n",
       "    this.message = status_bar[0];\n",
       "}\n",
       "\n",
       "mpl.figure.prototype.request_resize = function(x_pixels, y_pixels) {\n",
       "    // Request matplotlib to resize the figure. Matplotlib will then trigger a resize in the client,\n",
       "    // which will in turn request a refresh of the image.\n",
       "    this.send_message('resize', {'width': x_pixels, 'height': y_pixels});\n",
       "}\n",
       "\n",
       "mpl.figure.prototype.send_message = function(type, properties) {\n",
       "    properties['type'] = type;\n",
       "    properties['figure_id'] = this.id;\n",
       "    this.ws.send(JSON.stringify(properties));\n",
       "}\n",
       "\n",
       "mpl.figure.prototype.send_draw_message = function() {\n",
       "    if (!this.waiting) {\n",
       "        this.waiting = true;\n",
       "        this.ws.send(JSON.stringify({type: \"draw\", figure_id: this.id}));\n",
       "    }\n",
       "}\n",
       "\n",
       "\n",
       "mpl.figure.prototype.handle_save = function(fig, msg) {\n",
       "    var format_dropdown = fig.format_dropdown;\n",
       "    var format = format_dropdown.options[format_dropdown.selectedIndex].value;\n",
       "    fig.ondownload(fig, format);\n",
       "}\n",
       "\n",
       "\n",
       "mpl.figure.prototype.handle_resize = function(fig, msg) {\n",
       "    var size = msg['size'];\n",
       "    if (size[0] != fig.canvas.width || size[1] != fig.canvas.height) {\n",
       "        fig._resize_canvas(size[0], size[1]);\n",
       "        fig.send_message(\"refresh\", {});\n",
       "    };\n",
       "}\n",
       "\n",
       "mpl.figure.prototype.handle_rubberband = function(fig, msg) {\n",
       "    var x0 = msg['x0'];\n",
       "    var y0 = fig.canvas.height - msg['y0'];\n",
       "    var x1 = msg['x1'];\n",
       "    var y1 = fig.canvas.height - msg['y1'];\n",
       "    x0 = Math.floor(x0) + 0.5;\n",
       "    y0 = Math.floor(y0) + 0.5;\n",
       "    x1 = Math.floor(x1) + 0.5;\n",
       "    y1 = Math.floor(y1) + 0.5;\n",
       "    var min_x = Math.min(x0, x1);\n",
       "    var min_y = Math.min(y0, y1);\n",
       "    var width = Math.abs(x1 - x0);\n",
       "    var height = Math.abs(y1 - y0);\n",
       "\n",
       "    fig.rubberband_context.clearRect(\n",
       "        0, 0, fig.canvas.width, fig.canvas.height);\n",
       "\n",
       "    fig.rubberband_context.strokeRect(min_x, min_y, width, height);\n",
       "}\n",
       "\n",
       "mpl.figure.prototype.handle_figure_label = function(fig, msg) {\n",
       "    // Updates the figure title.\n",
       "    fig.header.textContent = msg['label'];\n",
       "}\n",
       "\n",
       "mpl.figure.prototype.handle_cursor = function(fig, msg) {\n",
       "    var cursor = msg['cursor'];\n",
       "    switch(cursor)\n",
       "    {\n",
       "    case 0:\n",
       "        cursor = 'pointer';\n",
       "        break;\n",
       "    case 1:\n",
       "        cursor = 'default';\n",
       "        break;\n",
       "    case 2:\n",
       "        cursor = 'crosshair';\n",
       "        break;\n",
       "    case 3:\n",
       "        cursor = 'move';\n",
       "        break;\n",
       "    }\n",
       "    fig.rubberband_canvas.style.cursor = cursor;\n",
       "}\n",
       "\n",
       "mpl.figure.prototype.handle_message = function(fig, msg) {\n",
       "    fig.message.textContent = msg['message'];\n",
       "}\n",
       "\n",
       "mpl.figure.prototype.handle_draw = function(fig, msg) {\n",
       "    // Request the server to send over a new figure.\n",
       "    fig.send_draw_message();\n",
       "}\n",
       "\n",
       "mpl.figure.prototype.handle_image_mode = function(fig, msg) {\n",
       "    fig.image_mode = msg['mode'];\n",
       "}\n",
       "\n",
       "mpl.figure.prototype.updated_canvas_event = function() {\n",
       "    // Called whenever the canvas gets updated.\n",
       "    this.send_message(\"ack\", {});\n",
       "}\n",
       "\n",
       "// A function to construct a web socket function for onmessage handling.\n",
       "// Called in the figure constructor.\n",
       "mpl.figure.prototype._make_on_message_function = function(fig) {\n",
       "    return function socket_on_message(evt) {\n",
       "        if (evt.data instanceof Blob) {\n",
       "            /* FIXME: We get \"Resource interpreted as Image but\n",
       "             * transferred with MIME type text/plain:\" errors on\n",
       "             * Chrome.  But how to set the MIME type?  It doesn't seem\n",
       "             * to be part of the websocket stream */\n",
       "            evt.data.type = \"image/png\";\n",
       "\n",
       "            /* Free the memory for the previous frames */\n",
       "            if (fig.imageObj.src) {\n",
       "                (window.URL || window.webkitURL).revokeObjectURL(\n",
       "                    fig.imageObj.src);\n",
       "            }\n",
       "\n",
       "            fig.imageObj.src = (window.URL || window.webkitURL).createObjectURL(\n",
       "                evt.data);\n",
       "            fig.updated_canvas_event();\n",
       "            fig.waiting = false;\n",
       "            return;\n",
       "        }\n",
       "        else if (typeof evt.data === 'string' && evt.data.slice(0, 21) == \"data:image/png;base64\") {\n",
       "            fig.imageObj.src = evt.data;\n",
       "            fig.updated_canvas_event();\n",
       "            fig.waiting = false;\n",
       "            return;\n",
       "        }\n",
       "\n",
       "        var msg = JSON.parse(evt.data);\n",
       "        var msg_type = msg['type'];\n",
       "\n",
       "        // Call the  \"handle_{type}\" callback, which takes\n",
       "        // the figure and JSON message as its only arguments.\n",
       "        try {\n",
       "            var callback = fig[\"handle_\" + msg_type];\n",
       "        } catch (e) {\n",
       "            console.log(\"No handler for the '\" + msg_type + \"' message type: \", msg);\n",
       "            return;\n",
       "        }\n",
       "\n",
       "        if (callback) {\n",
       "            try {\n",
       "                // console.log(\"Handling '\" + msg_type + \"' message: \", msg);\n",
       "                callback(fig, msg);\n",
       "            } catch (e) {\n",
       "                console.log(\"Exception inside the 'handler_\" + msg_type + \"' callback:\", e, e.stack, msg);\n",
       "            }\n",
       "        }\n",
       "    };\n",
       "}\n",
       "\n",
       "// from http://stackoverflow.com/questions/1114465/getting-mouse-location-in-canvas\n",
       "mpl.findpos = function(e) {\n",
       "    //this section is from http://www.quirksmode.org/js/events_properties.html\n",
       "    var targ;\n",
       "    if (!e)\n",
       "        e = window.event;\n",
       "    if (e.target)\n",
       "        targ = e.target;\n",
       "    else if (e.srcElement)\n",
       "        targ = e.srcElement;\n",
       "    if (targ.nodeType == 3) // defeat Safari bug\n",
       "        targ = targ.parentNode;\n",
       "\n",
       "    // jQuery normalizes the pageX and pageY\n",
       "    // pageX,Y are the mouse positions relative to the document\n",
       "    // offset() returns the position of the element relative to the document\n",
       "    var x = e.pageX - $(targ).offset().left;\n",
       "    var y = e.pageY - $(targ).offset().top;\n",
       "\n",
       "    return {\"x\": x, \"y\": y};\n",
       "};\n",
       "\n",
       "/*\n",
       " * return a copy of an object with only non-object keys\n",
       " * we need this to avoid circular references\n",
       " * http://stackoverflow.com/a/24161582/3208463\n",
       " */\n",
       "function simpleKeys (original) {\n",
       "  return Object.keys(original).reduce(function (obj, key) {\n",
       "    if (typeof original[key] !== 'object')\n",
       "        obj[key] = original[key]\n",
       "    return obj;\n",
       "  }, {});\n",
       "}\n",
       "\n",
       "mpl.figure.prototype.mouse_event = function(event, name) {\n",
       "    var canvas_pos = mpl.findpos(event)\n",
       "\n",
       "    if (name === 'button_press')\n",
       "    {\n",
       "        this.canvas.focus();\n",
       "        this.canvas_div.focus();\n",
       "    }\n",
       "\n",
       "    var x = canvas_pos.x;\n",
       "    var y = canvas_pos.y;\n",
       "\n",
       "    this.send_message(name, {x: x, y: y, button: event.button,\n",
       "                             step: event.step,\n",
       "                             guiEvent: simpleKeys(event)});\n",
       "\n",
       "    /* This prevents the web browser from automatically changing to\n",
       "     * the text insertion cursor when the button is pressed.  We want\n",
       "     * to control all of the cursor setting manually through the\n",
       "     * 'cursor' event from matplotlib */\n",
       "    event.preventDefault();\n",
       "    return false;\n",
       "}\n",
       "\n",
       "mpl.figure.prototype._key_event_extra = function(event, name) {\n",
       "    // Handle any extra behaviour associated with a key event\n",
       "}\n",
       "\n",
       "mpl.figure.prototype.key_event = function(event, name) {\n",
       "\n",
       "    // Prevent repeat events\n",
       "    if (name == 'key_press')\n",
       "    {\n",
       "        if (event.which === this._key)\n",
       "            return;\n",
       "        else\n",
       "            this._key = event.which;\n",
       "    }\n",
       "    if (name == 'key_release')\n",
       "        this._key = null;\n",
       "\n",
       "    var value = '';\n",
       "    if (event.ctrlKey && event.which != 17)\n",
       "        value += \"ctrl+\";\n",
       "    if (event.altKey && event.which != 18)\n",
       "        value += \"alt+\";\n",
       "    if (event.shiftKey && event.which != 16)\n",
       "        value += \"shift+\";\n",
       "\n",
       "    value += 'k';\n",
       "    value += event.which.toString();\n",
       "\n",
       "    this._key_event_extra(event, name);\n",
       "\n",
       "    this.send_message(name, {key: value,\n",
       "                             guiEvent: simpleKeys(event)});\n",
       "    return false;\n",
       "}\n",
       "\n",
       "mpl.figure.prototype.toolbar_button_onclick = function(name) {\n",
       "    if (name == 'download') {\n",
       "        this.handle_save(this, null);\n",
       "    } else {\n",
       "        this.send_message(\"toolbar_button\", {name: name});\n",
       "    }\n",
       "};\n",
       "\n",
       "mpl.figure.prototype.toolbar_button_onmouseover = function(tooltip) {\n",
       "    this.message.textContent = tooltip;\n",
       "};\n",
       "mpl.toolbar_items = [[\"Home\", \"Reset original view\", \"fa fa-home icon-home\", \"home\"], [\"Back\", \"Back to  previous view\", \"fa fa-arrow-left icon-arrow-left\", \"back\"], [\"Forward\", \"Forward to next view\", \"fa fa-arrow-right icon-arrow-right\", \"forward\"], [\"\", \"\", \"\", \"\"], [\"Pan\", \"Pan axes with left mouse, zoom with right\", \"fa fa-arrows icon-move\", \"pan\"], [\"Zoom\", \"Zoom to rectangle\", \"fa fa-square-o icon-check-empty\", \"zoom\"], [\"\", \"\", \"\", \"\"], [\"Download\", \"Download plot\", \"fa fa-floppy-o icon-save\", \"download\"]];\n",
       "\n",
       "mpl.extensions = [\"eps\", \"jpeg\", \"pdf\", \"png\", \"ps\", \"raw\", \"svg\", \"tif\"];\n",
       "\n",
       "mpl.default_extension = \"png\";var comm_websocket_adapter = function(comm) {\n",
       "    // Create a \"websocket\"-like object which calls the given IPython comm\n",
       "    // object with the appropriate methods. Currently this is a non binary\n",
       "    // socket, so there is still some room for performance tuning.\n",
       "    var ws = {};\n",
       "\n",
       "    ws.close = function() {\n",
       "        comm.close()\n",
       "    };\n",
       "    ws.send = function(m) {\n",
       "        //console.log('sending', m);\n",
       "        comm.send(m);\n",
       "    };\n",
       "    // Register the callback with on_msg.\n",
       "    comm.on_msg(function(msg) {\n",
       "        //console.log('receiving', msg['content']['data'], msg);\n",
       "        // Pass the mpl event to the overriden (by mpl) onmessage function.\n",
       "        ws.onmessage(msg['content']['data'])\n",
       "    });\n",
       "    return ws;\n",
       "}\n",
       "\n",
       "mpl.mpl_figure_comm = function(comm, msg) {\n",
       "    // This is the function which gets called when the mpl process\n",
       "    // starts-up an IPython Comm through the \"matplotlib\" channel.\n",
       "\n",
       "    var id = msg.content.data.id;\n",
       "    // Get hold of the div created by the display call when the Comm\n",
       "    // socket was opened in Python.\n",
       "    var element = $(\"#\" + id);\n",
       "    var ws_proxy = comm_websocket_adapter(comm)\n",
       "\n",
       "    function ondownload(figure, format) {\n",
       "        window.open(figure.imageObj.src);\n",
       "    }\n",
       "\n",
       "    var fig = new mpl.figure(id, ws_proxy,\n",
       "                           ondownload,\n",
       "                           element.get(0));\n",
       "\n",
       "    // Call onopen now - mpl needs it, as it is assuming we've passed it a real\n",
       "    // web socket which is closed, not our websocket->open comm proxy.\n",
       "    ws_proxy.onopen();\n",
       "\n",
       "    fig.parent_element = element.get(0);\n",
       "    fig.cell_info = mpl.find_output_cell(\"<div id='\" + id + \"'></div>\");\n",
       "    if (!fig.cell_info) {\n",
       "        console.error(\"Failed to find cell for figure\", id, fig);\n",
       "        return;\n",
       "    }\n",
       "\n",
       "    var output_index = fig.cell_info[2]\n",
       "    var cell = fig.cell_info[0];\n",
       "\n",
       "};\n",
       "\n",
       "mpl.figure.prototype.handle_close = function(fig, msg) {\n",
       "    fig.root.unbind('remove')\n",
       "\n",
       "    // Update the output cell to use the data from the current canvas.\n",
       "    fig.push_to_output();\n",
       "    var dataURL = fig.canvas.toDataURL();\n",
       "    // Re-enable the keyboard manager in IPython - without this line, in FF,\n",
       "    // the notebook keyboard shortcuts fail.\n",
       "    IPython.keyboard_manager.enable()\n",
       "    $(fig.parent_element).html('<img src=\"' + dataURL + '\">');\n",
       "    fig.close_ws(fig, msg);\n",
       "}\n",
       "\n",
       "mpl.figure.prototype.close_ws = function(fig, msg){\n",
       "    fig.send_message('closing', msg);\n",
       "    // fig.ws.close()\n",
       "}\n",
       "\n",
       "mpl.figure.prototype.push_to_output = function(remove_interactive) {\n",
       "    // Turn the data on the canvas into data in the output cell.\n",
       "    var dataURL = this.canvas.toDataURL();\n",
       "    this.cell_info[1]['text/html'] = '<img src=\"' + dataURL + '\">';\n",
       "}\n",
       "\n",
       "mpl.figure.prototype.updated_canvas_event = function() {\n",
       "    // Tell IPython that the notebook contents must change.\n",
       "    IPython.notebook.set_dirty(true);\n",
       "    this.send_message(\"ack\", {});\n",
       "    var fig = this;\n",
       "    // Wait a second, then push the new image to the DOM so\n",
       "    // that it is saved nicely (might be nice to debounce this).\n",
       "    setTimeout(function () { fig.push_to_output() }, 1000);\n",
       "}\n",
       "\n",
       "mpl.figure.prototype._init_toolbar = function() {\n",
       "    var fig = this;\n",
       "\n",
       "    var nav_element = $('<div/>')\n",
       "    nav_element.attr('style', 'width: 100%');\n",
       "    this.root.append(nav_element);\n",
       "\n",
       "    // Define a callback function for later on.\n",
       "    function toolbar_event(event) {\n",
       "        return fig.toolbar_button_onclick(event['data']);\n",
       "    }\n",
       "    function toolbar_mouse_event(event) {\n",
       "        return fig.toolbar_button_onmouseover(event['data']);\n",
       "    }\n",
       "\n",
       "    for(var toolbar_ind in mpl.toolbar_items){\n",
       "        var name = mpl.toolbar_items[toolbar_ind][0];\n",
       "        var tooltip = mpl.toolbar_items[toolbar_ind][1];\n",
       "        var image = mpl.toolbar_items[toolbar_ind][2];\n",
       "        var method_name = mpl.toolbar_items[toolbar_ind][3];\n",
       "\n",
       "        if (!name) { continue; };\n",
       "\n",
       "        var button = $('<button class=\"btn btn-default\" href=\"#\" title=\"' + name + '\"><i class=\"fa ' + image + ' fa-lg\"></i></button>');\n",
       "        button.click(method_name, toolbar_event);\n",
       "        button.mouseover(tooltip, toolbar_mouse_event);\n",
       "        nav_element.append(button);\n",
       "    }\n",
       "\n",
       "    // Add the status bar.\n",
       "    var status_bar = $('<span class=\"mpl-message\" style=\"text-align:right; float: right;\"/>');\n",
       "    nav_element.append(status_bar);\n",
       "    this.message = status_bar[0];\n",
       "\n",
       "    // Add the close button to the window.\n",
       "    var buttongrp = $('<div class=\"btn-group inline pull-right\"></div>');\n",
       "    var button = $('<button class=\"btn btn-mini btn-primary\" href=\"#\" title=\"Stop Interaction\"><i class=\"fa fa-power-off icon-remove icon-large\"></i></button>');\n",
       "    button.click(function (evt) { fig.handle_close(fig, {}); } );\n",
       "    button.mouseover('Stop Interaction', toolbar_mouse_event);\n",
       "    buttongrp.append(button);\n",
       "    var titlebar = this.root.find($('.ui-dialog-titlebar'));\n",
       "    titlebar.prepend(buttongrp);\n",
       "}\n",
       "\n",
       "mpl.figure.prototype._root_extra_style = function(el){\n",
       "    var fig = this\n",
       "    el.on(\"remove\", function(){\n",
       "\tfig.close_ws(fig, {});\n",
       "    });\n",
       "}\n",
       "\n",
       "mpl.figure.prototype._canvas_extra_style = function(el){\n",
       "    // this is important to make the div 'focusable\n",
       "    el.attr('tabindex', 0)\n",
       "    // reach out to IPython and tell the keyboard manager to turn it's self\n",
       "    // off when our div gets focus\n",
       "\n",
       "    // location in version 3\n",
       "    if (IPython.notebook.keyboard_manager) {\n",
       "        IPython.notebook.keyboard_manager.register_events(el);\n",
       "    }\n",
       "    else {\n",
       "        // location in version 2\n",
       "        IPython.keyboard_manager.register_events(el);\n",
       "    }\n",
       "\n",
       "}\n",
       "\n",
       "mpl.figure.prototype._key_event_extra = function(event, name) {\n",
       "    var manager = IPython.notebook.keyboard_manager;\n",
       "    if (!manager)\n",
       "        manager = IPython.keyboard_manager;\n",
       "\n",
       "    // Check for shift+enter\n",
       "    if (event.shiftKey && event.which == 13) {\n",
       "        this.canvas_div.blur();\n",
       "        // select the cell after this one\n",
       "        var index = IPython.notebook.find_cell_index(this.cell_info[0]);\n",
       "        IPython.notebook.select(index + 1);\n",
       "    }\n",
       "}\n",
       "\n",
       "mpl.figure.prototype.handle_save = function(fig, msg) {\n",
       "    fig.ondownload(fig, null);\n",
       "}\n",
       "\n",
       "\n",
       "mpl.find_output_cell = function(html_output) {\n",
       "    // Return the cell and output element which can be found *uniquely* in the notebook.\n",
       "    // Note - this is a bit hacky, but it is done because the \"notebook_saving.Notebook\"\n",
       "    // IPython event is triggered only after the cells have been serialised, which for\n",
       "    // our purposes (turning an active figure into a static one), is too late.\n",
       "    var cells = IPython.notebook.get_cells();\n",
       "    var ncells = cells.length;\n",
       "    for (var i=0; i<ncells; i++) {\n",
       "        var cell = cells[i];\n",
       "        if (cell.cell_type === 'code'){\n",
       "            for (var j=0; j<cell.output_area.outputs.length; j++) {\n",
       "                var data = cell.output_area.outputs[j];\n",
       "                if (data.data) {\n",
       "                    // IPython >= 3 moved mimebundle to data attribute of output\n",
       "                    data = data.data;\n",
       "                }\n",
       "                if (data['text/html'] == html_output) {\n",
       "                    return [cell, data, j];\n",
       "                }\n",
       "            }\n",
       "        }\n",
       "    }\n",
       "}\n",
       "\n",
       "// Register the function which deals with the matplotlib target/channel.\n",
       "// The kernel may be null if the page has been refreshed.\n",
       "if (IPython.notebook.kernel != null) {\n",
       "    IPython.notebook.kernel.comm_manager.register_target('matplotlib', mpl.mpl_figure_comm);\n",
       "}\n"
      ],
      "text/plain": [
       "<IPython.core.display.Javascript object>"
      ]
     },
     "metadata": {},
     "output_type": "display_data"
    },
    {
     "data": {
      "text/html": [
       "<img src=\"data:image/png;base64,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\">"
      ],
      "text/plain": [
       "<IPython.core.display.HTML object>"
      ]
     },
     "metadata": {},
     "output_type": "display_data"
    }
   ],
   "source": [
    "plot_bar(\n",
    "    list(map(lambda item: item[0], count_by_action)), \n",
    "    list(map(lambda item: item[1], count_by_action))\n",
    ")"
   ]
  },
  {
   "cell_type": "code",
   "execution_count": 41,
   "metadata": {
    "collapsed": false
   },
   "outputs": [],
   "source": [
    "ACTION_ORDINAL = {'LANDING': 1, 'VIEW PRODUCT': 2, 'READY TO BACK': 3, 'BACKED': 4}\n",
    "\n",
    "result = logs.keyBy(lambda log: (log.timestamp.date(), get_action(log)))\\\n",
    "    .mapValues(lambda _: 1)\\\n",
    "    .reduceByKey(lambda acc, i: acc + i)\\\n",
    "    .filter(lambda item: item[0][1] != 'UNKNOWN')\\\n",
    "    .sortBy(lambda item: (item[0][0], ACTION_ORDINAL[item[0][1]]))\\\n",
    "    .collect()"
   ]
  },
  {
   "cell_type": "code",
   "execution_count": 64,
   "metadata": {
    "collapsed": false
   },
   "outputs": [
    {
     "name": "stdout",
     "output_type": "stream",
     "text": [
      "[32448, 126584, 108143, 108887, 81914, 84393, 89665, 77428] range(0, 8)\n"
     ]
    },
    {
     "data": {
      "application/javascript": [
       "/* Put everything inside the global mpl namespace */\n",
       "window.mpl = {};\n",
       "\n",
       "mpl.get_websocket_type = function() {\n",
       "    if (typeof(WebSocket) !== 'undefined') {\n",
       "        return WebSocket;\n",
       "    } else if (typeof(MozWebSocket) !== 'undefined') {\n",
       "        return MozWebSocket;\n",
       "    } else {\n",
       "        alert('Your browser does not have WebSocket support.' +\n",
       "              'Please try Chrome, Safari or Firefox ≥ 6. ' +\n",
       "              'Firefox 4 and 5 are also supported but you ' +\n",
       "              'have to enable WebSockets in about:config.');\n",
       "    };\n",
       "}\n",
       "\n",
       "mpl.figure = function(figure_id, websocket, ondownload, parent_element) {\n",
       "    this.id = figure_id;\n",
       "\n",
       "    this.ws = websocket;\n",
       "\n",
       "    this.supports_binary = (this.ws.binaryType != undefined);\n",
       "\n",
       "    if (!this.supports_binary) {\n",
       "        var warnings = document.getElementById(\"mpl-warnings\");\n",
       "        if (warnings) {\n",
       "            warnings.style.display = 'block';\n",
       "            warnings.textContent = (\n",
       "                \"This browser does not support binary websocket messages. \" +\n",
       "                    \"Performance may be slow.\");\n",
       "        }\n",
       "    }\n",
       "\n",
       "    this.imageObj = new Image();\n",
       "\n",
       "    this.context = undefined;\n",
       "    this.message = undefined;\n",
       "    this.canvas = undefined;\n",
       "    this.rubberband_canvas = undefined;\n",
       "    this.rubberband_context = undefined;\n",
       "    this.format_dropdown = undefined;\n",
       "\n",
       "    this.image_mode = 'full';\n",
       "\n",
       "    this.root = $('<div/>');\n",
       "    this._root_extra_style(this.root)\n",
       "    this.root.attr('style', 'display: inline-block');\n",
       "\n",
       "    $(parent_element).append(this.root);\n",
       "\n",
       "    this._init_header(this);\n",
       "    this._init_canvas(this);\n",
       "    this._init_toolbar(this);\n",
       "\n",
       "    var fig = this;\n",
       "\n",
       "    this.waiting = false;\n",
       "\n",
       "    this.ws.onopen =  function () {\n",
       "            fig.send_message(\"supports_binary\", {value: fig.supports_binary});\n",
       "            fig.send_message(\"send_image_mode\", {});\n",
       "            fig.send_message(\"refresh\", {});\n",
       "        }\n",
       "\n",
       "    this.imageObj.onload = function() {\n",
       "            if (fig.image_mode == 'full') {\n",
       "                // Full images could contain transparency (where diff images\n",
       "                // almost always do), so we need to clear the canvas so that\n",
       "                // there is no ghosting.\n",
       "                fig.context.clearRect(0, 0, fig.canvas.width, fig.canvas.height);\n",
       "            }\n",
       "            fig.context.drawImage(fig.imageObj, 0, 0);\n",
       "        };\n",
       "\n",
       "    this.imageObj.onunload = function() {\n",
       "        this.ws.close();\n",
       "    }\n",
       "\n",
       "    this.ws.onmessage = this._make_on_message_function(this);\n",
       "\n",
       "    this.ondownload = ondownload;\n",
       "}\n",
       "\n",
       "mpl.figure.prototype._init_header = function() {\n",
       "    var titlebar = $(\n",
       "        '<div class=\"ui-dialog-titlebar ui-widget-header ui-corner-all ' +\n",
       "        'ui-helper-clearfix\"/>');\n",
       "    var titletext = $(\n",
       "        '<div class=\"ui-dialog-title\" style=\"width: 100%; ' +\n",
       "        'text-align: center; padding: 3px;\"/>');\n",
       "    titlebar.append(titletext)\n",
       "    this.root.append(titlebar);\n",
       "    this.header = titletext[0];\n",
       "}\n",
       "\n",
       "\n",
       "\n",
       "mpl.figure.prototype._canvas_extra_style = function(canvas_div) {\n",
       "\n",
       "}\n",
       "\n",
       "\n",
       "mpl.figure.prototype._root_extra_style = function(canvas_div) {\n",
       "\n",
       "}\n",
       "\n",
       "mpl.figure.prototype._init_canvas = function() {\n",
       "    var fig = this;\n",
       "\n",
       "    var canvas_div = $('<div/>');\n",
       "\n",
       "    canvas_div.attr('style', 'position: relative; clear: both; outline: 0');\n",
       "\n",
       "    function canvas_keyboard_event(event) {\n",
       "        return fig.key_event(event, event['data']);\n",
       "    }\n",
       "\n",
       "    canvas_div.keydown('key_press', canvas_keyboard_event);\n",
       "    canvas_div.keyup('key_release', canvas_keyboard_event);\n",
       "    this.canvas_div = canvas_div\n",
       "    this._canvas_extra_style(canvas_div)\n",
       "    this.root.append(canvas_div);\n",
       "\n",
       "    var canvas = $('<canvas/>');\n",
       "    canvas.addClass('mpl-canvas');\n",
       "    canvas.attr('style', \"left: 0; top: 0; z-index: 0; outline: 0\")\n",
       "\n",
       "    this.canvas = canvas[0];\n",
       "    this.context = canvas[0].getContext(\"2d\");\n",
       "\n",
       "    var rubberband = $('<canvas/>');\n",
       "    rubberband.attr('style', \"position: absolute; left: 0; top: 0; z-index: 1;\")\n",
       "\n",
       "    var pass_mouse_events = true;\n",
       "\n",
       "    canvas_div.resizable({\n",
       "        start: function(event, ui) {\n",
       "            pass_mouse_events = false;\n",
       "        },\n",
       "        resize: function(event, ui) {\n",
       "            fig.request_resize(ui.size.width, ui.size.height);\n",
       "        },\n",
       "        stop: function(event, ui) {\n",
       "            pass_mouse_events = true;\n",
       "            fig.request_resize(ui.size.width, ui.size.height);\n",
       "        },\n",
       "    });\n",
       "\n",
       "    function mouse_event_fn(event) {\n",
       "        if (pass_mouse_events)\n",
       "            return fig.mouse_event(event, event['data']);\n",
       "    }\n",
       "\n",
       "    rubberband.mousedown('button_press', mouse_event_fn);\n",
       "    rubberband.mouseup('button_release', mouse_event_fn);\n",
       "    // Throttle sequential mouse events to 1 every 20ms.\n",
       "    rubberband.mousemove('motion_notify', mouse_event_fn);\n",
       "\n",
       "    rubberband.mouseenter('figure_enter', mouse_event_fn);\n",
       "    rubberband.mouseleave('figure_leave', mouse_event_fn);\n",
       "\n",
       "    canvas_div.on(\"wheel\", function (event) {\n",
       "        event = event.originalEvent;\n",
       "        event['data'] = 'scroll'\n",
       "        if (event.deltaY < 0) {\n",
       "            event.step = 1;\n",
       "        } else {\n",
       "            event.step = -1;\n",
       "        }\n",
       "        mouse_event_fn(event);\n",
       "    });\n",
       "\n",
       "    canvas_div.append(canvas);\n",
       "    canvas_div.append(rubberband);\n",
       "\n",
       "    this.rubberband = rubberband;\n",
       "    this.rubberband_canvas = rubberband[0];\n",
       "    this.rubberband_context = rubberband[0].getContext(\"2d\");\n",
       "    this.rubberband_context.strokeStyle = \"#000000\";\n",
       "\n",
       "    this._resize_canvas = function(width, height) {\n",
       "        // Keep the size of the canvas, canvas container, and rubber band\n",
       "        // canvas in synch.\n",
       "        canvas_div.css('width', width)\n",
       "        canvas_div.css('height', height)\n",
       "\n",
       "        canvas.attr('width', width);\n",
       "        canvas.attr('height', height);\n",
       "\n",
       "        rubberband.attr('width', width);\n",
       "        rubberband.attr('height', height);\n",
       "    }\n",
       "\n",
       "    // Set the figure to an initial 600x600px, this will subsequently be updated\n",
       "    // upon first draw.\n",
       "    this._resize_canvas(600, 600);\n",
       "\n",
       "    // Disable right mouse context menu.\n",
       "    $(this.rubberband_canvas).bind(\"contextmenu\",function(e){\n",
       "        return false;\n",
       "    });\n",
       "\n",
       "    function set_focus () {\n",
       "        canvas.focus();\n",
       "        canvas_div.focus();\n",
       "    }\n",
       "\n",
       "    window.setTimeout(set_focus, 100);\n",
       "}\n",
       "\n",
       "mpl.figure.prototype._init_toolbar = function() {\n",
       "    var fig = this;\n",
       "\n",
       "    var nav_element = $('<div/>')\n",
       "    nav_element.attr('style', 'width: 100%');\n",
       "    this.root.append(nav_element);\n",
       "\n",
       "    // Define a callback function for later on.\n",
       "    function toolbar_event(event) {\n",
       "        return fig.toolbar_button_onclick(event['data']);\n",
       "    }\n",
       "    function toolbar_mouse_event(event) {\n",
       "        return fig.toolbar_button_onmouseover(event['data']);\n",
       "    }\n",
       "\n",
       "    for(var toolbar_ind in mpl.toolbar_items) {\n",
       "        var name = mpl.toolbar_items[toolbar_ind][0];\n",
       "        var tooltip = mpl.toolbar_items[toolbar_ind][1];\n",
       "        var image = mpl.toolbar_items[toolbar_ind][2];\n",
       "        var method_name = mpl.toolbar_items[toolbar_ind][3];\n",
       "\n",
       "        if (!name) {\n",
       "            // put a spacer in here.\n",
       "            continue;\n",
       "        }\n",
       "        var button = $('<button/>');\n",
       "        button.addClass('ui-button ui-widget ui-state-default ui-corner-all ' +\n",
       "                        'ui-button-icon-only');\n",
       "        button.attr('role', 'button');\n",
       "        button.attr('aria-disabled', 'false');\n",
       "        button.click(method_name, toolbar_event);\n",
       "        button.mouseover(tooltip, toolbar_mouse_event);\n",
       "\n",
       "        var icon_img = $('<span/>');\n",
       "        icon_img.addClass('ui-button-icon-primary ui-icon');\n",
       "        icon_img.addClass(image);\n",
       "        icon_img.addClass('ui-corner-all');\n",
       "\n",
       "        var tooltip_span = $('<span/>');\n",
       "        tooltip_span.addClass('ui-button-text');\n",
       "        tooltip_span.html(tooltip);\n",
       "\n",
       "        button.append(icon_img);\n",
       "        button.append(tooltip_span);\n",
       "\n",
       "        nav_element.append(button);\n",
       "    }\n",
       "\n",
       "    var fmt_picker_span = $('<span/>');\n",
       "\n",
       "    var fmt_picker = $('<select/>');\n",
       "    fmt_picker.addClass('mpl-toolbar-option ui-widget ui-widget-content');\n",
       "    fmt_picker_span.append(fmt_picker);\n",
       "    nav_element.append(fmt_picker_span);\n",
       "    this.format_dropdown = fmt_picker[0];\n",
       "\n",
       "    for (var ind in mpl.extensions) {\n",
       "        var fmt = mpl.extensions[ind];\n",
       "        var option = $(\n",
       "            '<option/>', {selected: fmt === mpl.default_extension}).html(fmt);\n",
       "        fmt_picker.append(option)\n",
       "    }\n",
       "\n",
       "    // Add hover states to the ui-buttons\n",
       "    $( \".ui-button\" ).hover(\n",
       "        function() { $(this).addClass(\"ui-state-hover\");},\n",
       "        function() { $(this).removeClass(\"ui-state-hover\");}\n",
       "    );\n",
       "\n",
       "    var status_bar = $('<span class=\"mpl-message\"/>');\n",
       "    nav_element.append(status_bar);\n",
       "    this.message = status_bar[0];\n",
       "}\n",
       "\n",
       "mpl.figure.prototype.request_resize = function(x_pixels, y_pixels) {\n",
       "    // Request matplotlib to resize the figure. Matplotlib will then trigger a resize in the client,\n",
       "    // which will in turn request a refresh of the image.\n",
       "    this.send_message('resize', {'width': x_pixels, 'height': y_pixels});\n",
       "}\n",
       "\n",
       "mpl.figure.prototype.send_message = function(type, properties) {\n",
       "    properties['type'] = type;\n",
       "    properties['figure_id'] = this.id;\n",
       "    this.ws.send(JSON.stringify(properties));\n",
       "}\n",
       "\n",
       "mpl.figure.prototype.send_draw_message = function() {\n",
       "    if (!this.waiting) {\n",
       "        this.waiting = true;\n",
       "        this.ws.send(JSON.stringify({type: \"draw\", figure_id: this.id}));\n",
       "    }\n",
       "}\n",
       "\n",
       "\n",
       "mpl.figure.prototype.handle_save = function(fig, msg) {\n",
       "    var format_dropdown = fig.format_dropdown;\n",
       "    var format = format_dropdown.options[format_dropdown.selectedIndex].value;\n",
       "    fig.ondownload(fig, format);\n",
       "}\n",
       "\n",
       "\n",
       "mpl.figure.prototype.handle_resize = function(fig, msg) {\n",
       "    var size = msg['size'];\n",
       "    if (size[0] != fig.canvas.width || size[1] != fig.canvas.height) {\n",
       "        fig._resize_canvas(size[0], size[1]);\n",
       "        fig.send_message(\"refresh\", {});\n",
       "    };\n",
       "}\n",
       "\n",
       "mpl.figure.prototype.handle_rubberband = function(fig, msg) {\n",
       "    var x0 = msg['x0'];\n",
       "    var y0 = fig.canvas.height - msg['y0'];\n",
       "    var x1 = msg['x1'];\n",
       "    var y1 = fig.canvas.height - msg['y1'];\n",
       "    x0 = Math.floor(x0) + 0.5;\n",
       "    y0 = Math.floor(y0) + 0.5;\n",
       "    x1 = Math.floor(x1) + 0.5;\n",
       "    y1 = Math.floor(y1) + 0.5;\n",
       "    var min_x = Math.min(x0, x1);\n",
       "    var min_y = Math.min(y0, y1);\n",
       "    var width = Math.abs(x1 - x0);\n",
       "    var height = Math.abs(y1 - y0);\n",
       "\n",
       "    fig.rubberband_context.clearRect(\n",
       "        0, 0, fig.canvas.width, fig.canvas.height);\n",
       "\n",
       "    fig.rubberband_context.strokeRect(min_x, min_y, width, height);\n",
       "}\n",
       "\n",
       "mpl.figure.prototype.handle_figure_label = function(fig, msg) {\n",
       "    // Updates the figure title.\n",
       "    fig.header.textContent = msg['label'];\n",
       "}\n",
       "\n",
       "mpl.figure.prototype.handle_cursor = function(fig, msg) {\n",
       "    var cursor = msg['cursor'];\n",
       "    switch(cursor)\n",
       "    {\n",
       "    case 0:\n",
       "        cursor = 'pointer';\n",
       "        break;\n",
       "    case 1:\n",
       "        cursor = 'default';\n",
       "        break;\n",
       "    case 2:\n",
       "        cursor = 'crosshair';\n",
       "        break;\n",
       "    case 3:\n",
       "        cursor = 'move';\n",
       "        break;\n",
       "    }\n",
       "    fig.rubberband_canvas.style.cursor = cursor;\n",
       "}\n",
       "\n",
       "mpl.figure.prototype.handle_message = function(fig, msg) {\n",
       "    fig.message.textContent = msg['message'];\n",
       "}\n",
       "\n",
       "mpl.figure.prototype.handle_draw = function(fig, msg) {\n",
       "    // Request the server to send over a new figure.\n",
       "    fig.send_draw_message();\n",
       "}\n",
       "\n",
       "mpl.figure.prototype.handle_image_mode = function(fig, msg) {\n",
       "    fig.image_mode = msg['mode'];\n",
       "}\n",
       "\n",
       "mpl.figure.prototype.updated_canvas_event = function() {\n",
       "    // Called whenever the canvas gets updated.\n",
       "    this.send_message(\"ack\", {});\n",
       "}\n",
       "\n",
       "// A function to construct a web socket function for onmessage handling.\n",
       "// Called in the figure constructor.\n",
       "mpl.figure.prototype._make_on_message_function = function(fig) {\n",
       "    return function socket_on_message(evt) {\n",
       "        if (evt.data instanceof Blob) {\n",
       "            /* FIXME: We get \"Resource interpreted as Image but\n",
       "             * transferred with MIME type text/plain:\" errors on\n",
       "             * Chrome.  But how to set the MIME type?  It doesn't seem\n",
       "             * to be part of the websocket stream */\n",
       "            evt.data.type = \"image/png\";\n",
       "\n",
       "            /* Free the memory for the previous frames */\n",
       "            if (fig.imageObj.src) {\n",
       "                (window.URL || window.webkitURL).revokeObjectURL(\n",
       "                    fig.imageObj.src);\n",
       "            }\n",
       "\n",
       "            fig.imageObj.src = (window.URL || window.webkitURL).createObjectURL(\n",
       "                evt.data);\n",
       "            fig.updated_canvas_event();\n",
       "            fig.waiting = false;\n",
       "            return;\n",
       "        }\n",
       "        else if (typeof evt.data === 'string' && evt.data.slice(0, 21) == \"data:image/png;base64\") {\n",
       "            fig.imageObj.src = evt.data;\n",
       "            fig.updated_canvas_event();\n",
       "            fig.waiting = false;\n",
       "            return;\n",
       "        }\n",
       "\n",
       "        var msg = JSON.parse(evt.data);\n",
       "        var msg_type = msg['type'];\n",
       "\n",
       "        // Call the  \"handle_{type}\" callback, which takes\n",
       "        // the figure and JSON message as its only arguments.\n",
       "        try {\n",
       "            var callback = fig[\"handle_\" + msg_type];\n",
       "        } catch (e) {\n",
       "            console.log(\"No handler for the '\" + msg_type + \"' message type: \", msg);\n",
       "            return;\n",
       "        }\n",
       "\n",
       "        if (callback) {\n",
       "            try {\n",
       "                // console.log(\"Handling '\" + msg_type + \"' message: \", msg);\n",
       "                callback(fig, msg);\n",
       "            } catch (e) {\n",
       "                console.log(\"Exception inside the 'handler_\" + msg_type + \"' callback:\", e, e.stack, msg);\n",
       "            }\n",
       "        }\n",
       "    };\n",
       "}\n",
       "\n",
       "// from http://stackoverflow.com/questions/1114465/getting-mouse-location-in-canvas\n",
       "mpl.findpos = function(e) {\n",
       "    //this section is from http://www.quirksmode.org/js/events_properties.html\n",
       "    var targ;\n",
       "    if (!e)\n",
       "        e = window.event;\n",
       "    if (e.target)\n",
       "        targ = e.target;\n",
       "    else if (e.srcElement)\n",
       "        targ = e.srcElement;\n",
       "    if (targ.nodeType == 3) // defeat Safari bug\n",
       "        targ = targ.parentNode;\n",
       "\n",
       "    // jQuery normalizes the pageX and pageY\n",
       "    // pageX,Y are the mouse positions relative to the document\n",
       "    // offset() returns the position of the element relative to the document\n",
       "    var x = e.pageX - $(targ).offset().left;\n",
       "    var y = e.pageY - $(targ).offset().top;\n",
       "\n",
       "    return {\"x\": x, \"y\": y};\n",
       "};\n",
       "\n",
       "/*\n",
       " * return a copy of an object with only non-object keys\n",
       " * we need this to avoid circular references\n",
       " * http://stackoverflow.com/a/24161582/3208463\n",
       " */\n",
       "function simpleKeys (original) {\n",
       "  return Object.keys(original).reduce(function (obj, key) {\n",
       "    if (typeof original[key] !== 'object')\n",
       "        obj[key] = original[key]\n",
       "    return obj;\n",
       "  }, {});\n",
       "}\n",
       "\n",
       "mpl.figure.prototype.mouse_event = function(event, name) {\n",
       "    var canvas_pos = mpl.findpos(event)\n",
       "\n",
       "    if (name === 'button_press')\n",
       "    {\n",
       "        this.canvas.focus();\n",
       "        this.canvas_div.focus();\n",
       "    }\n",
       "\n",
       "    var x = canvas_pos.x;\n",
       "    var y = canvas_pos.y;\n",
       "\n",
       "    this.send_message(name, {x: x, y: y, button: event.button,\n",
       "                             step: event.step,\n",
       "                             guiEvent: simpleKeys(event)});\n",
       "\n",
       "    /* This prevents the web browser from automatically changing to\n",
       "     * the text insertion cursor when the button is pressed.  We want\n",
       "     * to control all of the cursor setting manually through the\n",
       "     * 'cursor' event from matplotlib */\n",
       "    event.preventDefault();\n",
       "    return false;\n",
       "}\n",
       "\n",
       "mpl.figure.prototype._key_event_extra = function(event, name) {\n",
       "    // Handle any extra behaviour associated with a key event\n",
       "}\n",
       "\n",
       "mpl.figure.prototype.key_event = function(event, name) {\n",
       "\n",
       "    // Prevent repeat events\n",
       "    if (name == 'key_press')\n",
       "    {\n",
       "        if (event.which === this._key)\n",
       "            return;\n",
       "        else\n",
       "            this._key = event.which;\n",
       "    }\n",
       "    if (name == 'key_release')\n",
       "        this._key = null;\n",
       "\n",
       "    var value = '';\n",
       "    if (event.ctrlKey && event.which != 17)\n",
       "        value += \"ctrl+\";\n",
       "    if (event.altKey && event.which != 18)\n",
       "        value += \"alt+\";\n",
       "    if (event.shiftKey && event.which != 16)\n",
       "        value += \"shift+\";\n",
       "\n",
       "    value += 'k';\n",
       "    value += event.which.toString();\n",
       "\n",
       "    this._key_event_extra(event, name);\n",
       "\n",
       "    this.send_message(name, {key: value,\n",
       "                             guiEvent: simpleKeys(event)});\n",
       "    return false;\n",
       "}\n",
       "\n",
       "mpl.figure.prototype.toolbar_button_onclick = function(name) {\n",
       "    if (name == 'download') {\n",
       "        this.handle_save(this, null);\n",
       "    } else {\n",
       "        this.send_message(\"toolbar_button\", {name: name});\n",
       "    }\n",
       "};\n",
       "\n",
       "mpl.figure.prototype.toolbar_button_onmouseover = function(tooltip) {\n",
       "    this.message.textContent = tooltip;\n",
       "};\n",
       "mpl.toolbar_items = [[\"Home\", \"Reset original view\", \"fa fa-home icon-home\", \"home\"], [\"Back\", \"Back to  previous view\", \"fa fa-arrow-left icon-arrow-left\", \"back\"], [\"Forward\", \"Forward to next view\", \"fa fa-arrow-right icon-arrow-right\", \"forward\"], [\"\", \"\", \"\", \"\"], [\"Pan\", \"Pan axes with left mouse, zoom with right\", \"fa fa-arrows icon-move\", \"pan\"], [\"Zoom\", \"Zoom to rectangle\", \"fa fa-square-o icon-check-empty\", \"zoom\"], [\"\", \"\", \"\", \"\"], [\"Download\", \"Download plot\", \"fa fa-floppy-o icon-save\", \"download\"]];\n",
       "\n",
       "mpl.extensions = [\"eps\", \"jpeg\", \"pdf\", \"png\", \"ps\", \"raw\", \"svg\", \"tif\"];\n",
       "\n",
       "mpl.default_extension = \"png\";var comm_websocket_adapter = function(comm) {\n",
       "    // Create a \"websocket\"-like object which calls the given IPython comm\n",
       "    // object with the appropriate methods. Currently this is a non binary\n",
       "    // socket, so there is still some room for performance tuning.\n",
       "    var ws = {};\n",
       "\n",
       "    ws.close = function() {\n",
       "        comm.close()\n",
       "    };\n",
       "    ws.send = function(m) {\n",
       "        //console.log('sending', m);\n",
       "        comm.send(m);\n",
       "    };\n",
       "    // Register the callback with on_msg.\n",
       "    comm.on_msg(function(msg) {\n",
       "        //console.log('receiving', msg['content']['data'], msg);\n",
       "        // Pass the mpl event to the overriden (by mpl) onmessage function.\n",
       "        ws.onmessage(msg['content']['data'])\n",
       "    });\n",
       "    return ws;\n",
       "}\n",
       "\n",
       "mpl.mpl_figure_comm = function(comm, msg) {\n",
       "    // This is the function which gets called when the mpl process\n",
       "    // starts-up an IPython Comm through the \"matplotlib\" channel.\n",
       "\n",
       "    var id = msg.content.data.id;\n",
       "    // Get hold of the div created by the display call when the Comm\n",
       "    // socket was opened in Python.\n",
       "    var element = $(\"#\" + id);\n",
       "    var ws_proxy = comm_websocket_adapter(comm)\n",
       "\n",
       "    function ondownload(figure, format) {\n",
       "        window.open(figure.imageObj.src);\n",
       "    }\n",
       "\n",
       "    var fig = new mpl.figure(id, ws_proxy,\n",
       "                           ondownload,\n",
       "                           element.get(0));\n",
       "\n",
       "    // Call onopen now - mpl needs it, as it is assuming we've passed it a real\n",
       "    // web socket which is closed, not our websocket->open comm proxy.\n",
       "    ws_proxy.onopen();\n",
       "\n",
       "    fig.parent_element = element.get(0);\n",
       "    fig.cell_info = mpl.find_output_cell(\"<div id='\" + id + \"'></div>\");\n",
       "    if (!fig.cell_info) {\n",
       "        console.error(\"Failed to find cell for figure\", id, fig);\n",
       "        return;\n",
       "    }\n",
       "\n",
       "    var output_index = fig.cell_info[2]\n",
       "    var cell = fig.cell_info[0];\n",
       "\n",
       "};\n",
       "\n",
       "mpl.figure.prototype.handle_close = function(fig, msg) {\n",
       "    fig.root.unbind('remove')\n",
       "\n",
       "    // Update the output cell to use the data from the current canvas.\n",
       "    fig.push_to_output();\n",
       "    var dataURL = fig.canvas.toDataURL();\n",
       "    // Re-enable the keyboard manager in IPython - without this line, in FF,\n",
       "    // the notebook keyboard shortcuts fail.\n",
       "    IPython.keyboard_manager.enable()\n",
       "    $(fig.parent_element).html('<img src=\"' + dataURL + '\">');\n",
       "    fig.close_ws(fig, msg);\n",
       "}\n",
       "\n",
       "mpl.figure.prototype.close_ws = function(fig, msg){\n",
       "    fig.send_message('closing', msg);\n",
       "    // fig.ws.close()\n",
       "}\n",
       "\n",
       "mpl.figure.prototype.push_to_output = function(remove_interactive) {\n",
       "    // Turn the data on the canvas into data in the output cell.\n",
       "    var dataURL = this.canvas.toDataURL();\n",
       "    this.cell_info[1]['text/html'] = '<img src=\"' + dataURL + '\">';\n",
       "}\n",
       "\n",
       "mpl.figure.prototype.updated_canvas_event = function() {\n",
       "    // Tell IPython that the notebook contents must change.\n",
       "    IPython.notebook.set_dirty(true);\n",
       "    this.send_message(\"ack\", {});\n",
       "    var fig = this;\n",
       "    // Wait a second, then push the new image to the DOM so\n",
       "    // that it is saved nicely (might be nice to debounce this).\n",
       "    setTimeout(function () { fig.push_to_output() }, 1000);\n",
       "}\n",
       "\n",
       "mpl.figure.prototype._init_toolbar = function() {\n",
       "    var fig = this;\n",
       "\n",
       "    var nav_element = $('<div/>')\n",
       "    nav_element.attr('style', 'width: 100%');\n",
       "    this.root.append(nav_element);\n",
       "\n",
       "    // Define a callback function for later on.\n",
       "    function toolbar_event(event) {\n",
       "        return fig.toolbar_button_onclick(event['data']);\n",
       "    }\n",
       "    function toolbar_mouse_event(event) {\n",
       "        return fig.toolbar_button_onmouseover(event['data']);\n",
       "    }\n",
       "\n",
       "    for(var toolbar_ind in mpl.toolbar_items){\n",
       "        var name = mpl.toolbar_items[toolbar_ind][0];\n",
       "        var tooltip = mpl.toolbar_items[toolbar_ind][1];\n",
       "        var image = mpl.toolbar_items[toolbar_ind][2];\n",
       "        var method_name = mpl.toolbar_items[toolbar_ind][3];\n",
       "\n",
       "        if (!name) { continue; };\n",
       "\n",
       "        var button = $('<button class=\"btn btn-default\" href=\"#\" title=\"' + name + '\"><i class=\"fa ' + image + ' fa-lg\"></i></button>');\n",
       "        button.click(method_name, toolbar_event);\n",
       "        button.mouseover(tooltip, toolbar_mouse_event);\n",
       "        nav_element.append(button);\n",
       "    }\n",
       "\n",
       "    // Add the status bar.\n",
       "    var status_bar = $('<span class=\"mpl-message\" style=\"text-align:right; float: right;\"/>');\n",
       "    nav_element.append(status_bar);\n",
       "    this.message = status_bar[0];\n",
       "\n",
       "    // Add the close button to the window.\n",
       "    var buttongrp = $('<div class=\"btn-group inline pull-right\"></div>');\n",
       "    var button = $('<button class=\"btn btn-mini btn-primary\" href=\"#\" title=\"Stop Interaction\"><i class=\"fa fa-power-off icon-remove icon-large\"></i></button>');\n",
       "    button.click(function (evt) { fig.handle_close(fig, {}); } );\n",
       "    button.mouseover('Stop Interaction', toolbar_mouse_event);\n",
       "    buttongrp.append(button);\n",
       "    var titlebar = this.root.find($('.ui-dialog-titlebar'));\n",
       "    titlebar.prepend(buttongrp);\n",
       "}\n",
       "\n",
       "mpl.figure.prototype._root_extra_style = function(el){\n",
       "    var fig = this\n",
       "    el.on(\"remove\", function(){\n",
       "\tfig.close_ws(fig, {});\n",
       "    });\n",
       "}\n",
       "\n",
       "mpl.figure.prototype._canvas_extra_style = function(el){\n",
       "    // this is important to make the div 'focusable\n",
       "    el.attr('tabindex', 0)\n",
       "    // reach out to IPython and tell the keyboard manager to turn it's self\n",
       "    // off when our div gets focus\n",
       "\n",
       "    // location in version 3\n",
       "    if (IPython.notebook.keyboard_manager) {\n",
       "        IPython.notebook.keyboard_manager.register_events(el);\n",
       "    }\n",
       "    else {\n",
       "        // location in version 2\n",
       "        IPython.keyboard_manager.register_events(el);\n",
       "    }\n",
       "\n",
       "}\n",
       "\n",
       "mpl.figure.prototype._key_event_extra = function(event, name) {\n",
       "    var manager = IPython.notebook.keyboard_manager;\n",
       "    if (!manager)\n",
       "        manager = IPython.keyboard_manager;\n",
       "\n",
       "    // Check for shift+enter\n",
       "    if (event.shiftKey && event.which == 13) {\n",
       "        this.canvas_div.blur();\n",
       "        // select the cell after this one\n",
       "        var index = IPython.notebook.find_cell_index(this.cell_info[0]);\n",
       "        IPython.notebook.select(index + 1);\n",
       "    }\n",
       "}\n",
       "\n",
       "mpl.figure.prototype.handle_save = function(fig, msg) {\n",
       "    fig.ondownload(fig, null);\n",
       "}\n",
       "\n",
       "\n",
       "mpl.find_output_cell = function(html_output) {\n",
       "    // Return the cell and output element which can be found *uniquely* in the notebook.\n",
       "    // Note - this is a bit hacky, but it is done because the \"notebook_saving.Notebook\"\n",
       "    // IPython event is triggered only after the cells have been serialised, which for\n",
       "    // our purposes (turning an active figure into a static one), is too late.\n",
       "    var cells = IPython.notebook.get_cells();\n",
       "    var ncells = cells.length;\n",
       "    for (var i=0; i<ncells; i++) {\n",
       "        var cell = cells[i];\n",
       "        if (cell.cell_type === 'code'){\n",
       "            for (var j=0; j<cell.output_area.outputs.length; j++) {\n",
       "                var data = cell.output_area.outputs[j];\n",
       "                if (data.data) {\n",
       "                    // IPython >= 3 moved mimebundle to data attribute of output\n",
       "                    data = data.data;\n",
       "                }\n",
       "                if (data['text/html'] == html_output) {\n",
       "                    return [cell, data, j];\n",
       "                }\n",
       "            }\n",
       "        }\n",
       "    }\n",
       "}\n",
       "\n",
       "// Register the function which deals with the matplotlib target/channel.\n",
       "// The kernel may be null if the page has been refreshed.\n",
       "if (IPython.notebook.kernel != null) {\n",
       "    IPython.notebook.kernel.comm_manager.register_target('matplotlib', mpl.mpl_figure_comm);\n",
       "}\n"
      ],
      "text/plain": [
       "<IPython.core.display.Javascript object>"
      ]
     },
     "metadata": {},
     "output_type": "display_data"
    },
    {
     "data": {
      "text/html": [
       "<img src=\"data:image/png;base64,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\">"
      ],
      "text/plain": [
       "<IPython.core.display.HTML object>"
      ]
     },
     "metadata": {},
     "output_type": "display_data"
    },
    {
     "name": "stdout",
     "output_type": "stream",
     "text": [
      "[61430, 240680, 205363, 206097, 156099, 160122, 169998, 147044] range(0, 8)\n",
      "[64714, 253403, 216298, 216771, 164272, 168430, 178998, 154734] range(0, 8)\n",
      "[65041, 254675, 217393, 217869, 165083, 169278, 179904, 155447] range(0, 8)\n"
     ]
    }
   ],
   "source": [
    "label = [item[0][0].strftime('%d/%m') for item in result[0:len(result):4]]\n",
    "data = [[item[1] for item in result[i:len(result):4]]\n",
    "        for i in range(4)]\n",
    "stack_line(label, data)"
   ]
  },
  {
   "cell_type": "markdown",
   "metadata": {},
   "source": [
    "## Multiple DataSource"
   ]
  },
  {
   "cell_type": "code",
   "execution_count": 102,
   "metadata": {
    "collapsed": false
   },
   "outputs": [
    {
     "data": {
      "text/plain": [
       "['1.0.0.0,1.0.0.255,Australia']"
      ]
     },
     "execution_count": 102,
     "metadata": {},
     "output_type": "execute_result"
    }
   ],
   "source": [
    "geo_ips = sc.textFile('GeoIPOriginal.csv')\n",
    "geo_ips.take(1)"
   ]
  },
  {
   "cell_type": "code",
   "execution_count": 103,
   "metadata": {
    "collapsed": true
   },
   "outputs": [],
   "source": [
    "GeoIPOriginal = namedtuple('GeoIPOriginal', ['start', 'stop', 'country'])\n",
    "\n",
    "def parse_geo_ip_record(text):\n",
    "    splitted = text.split(',')\n",
    "    return GeoIPOriginal(\n",
    "        parse_ip_addr(splitted[0]),\n",
    "        parse_ip_addr(splitted[1]),\n",
    "        splitted[2]\n",
    "    )"
   ]
  },
  {
   "cell_type": "code",
   "execution_count": 89,
   "metadata": {
    "collapsed": false
   },
   "outputs": [
    {
     "data": {
      "text/plain": [
       "[GeoIPOriginal(start=(1, 0, 0, 0), stop=(1, 0, 0, 255), country='Australia'),\n",
       " GeoIPOriginal(start=(1, 0, 1, 0), stop=(1, 0, 3, 255), country='China'),\n",
       " GeoIPOriginal(start=(1, 0, 4, 0), stop=(1, 0, 7, 255), country='Australia'),\n",
       " GeoIPOriginal(start=(1, 0, 8, 0), stop=(1, 0, 15, 255), country='China'),\n",
       " GeoIPOriginal(start=(1, 0, 16, 0), stop=(1, 0, 31, 255), country='Japan')]"
      ]
     },
     "execution_count": 89,
     "metadata": {},
     "output_type": "execute_result"
    }
   ],
   "source": [
    "sample_ip = geo_ips.map(parse_geo_ip_record).take(5)\n",
    "sample_ip"
   ]
  },
  {
   "cell_type": "code",
   "execution_count": 90,
   "metadata": {
    "collapsed": false
   },
   "outputs": [
    {
     "data": {
      "text/plain": [
       "[(1, 0, 4, 0), (1, 0, 5, 0), (1, 0, 6, 0), (1, 0, 7, 0)]"
      ]
     },
     "execution_count": 90,
     "metadata": {},
     "output_type": "execute_result"
    }
   ],
   "source": [
    "split_range_to_class_c(sample_ip[2].start, sample_ip[2].stop)"
   ]
  },
  {
   "cell_type": "code",
   "execution_count": 91,
   "metadata": {
    "collapsed": true
   },
   "outputs": [],
   "source": [
    "def split_ip_ranges(ip_original):\n",
    "    sub_ips = split_range_to_class_c(ip_original.start, ip_original.stop)\n",
    "    return [\n",
    "        (ip, ip_original.country)\n",
    "        for ip in sub_ips\n",
    "    ]"
   ]
  },
  {
   "cell_type": "code",
   "execution_count": 105,
   "metadata": {
    "collapsed": false
   },
   "outputs": [
    {
     "data": {
      "text/plain": [
       "[((1, 0, 0, 0), 'Australia'),\n",
       " ((1, 0, 1, 0), 'China'),\n",
       " ((1, 0, 2, 0), 'China'),\n",
       " ((1, 0, 3, 0), 'China'),\n",
       " ((1, 0, 4, 0), 'Australia')]"
      ]
     },
     "execution_count": 105,
     "metadata": {},
     "output_type": "execute_result"
    }
   ],
   "source": [
    "geo_ips.map(parse_geo_ip_record).flatMap(split_ip_ranges).take(5)"
   ]
  },
  {
   "cell_type": "code",
   "execution_count": 106,
   "metadata": {
    "collapsed": true
   },
   "outputs": [],
   "source": [
    "geo_ips = geo_ips.map(parse_geo_ip_record)\\\n",
    "                 .flatMap(split_ip_ranges)"
   ]
  },
  {
   "cell_type": "code",
   "execution_count": 114,
   "metadata": {
    "collapsed": false
   },
   "outputs": [
    {
     "data": {
      "text/plain": [
       "[((4, 106, 187, 0),\n",
       "  (AccessLog(ip_address=(4, 106, 187, 147), path='/', method='GET', timestamp=datetime.datetime(2017, 4, 10, 14, 19, 17, 260432), session_id='1281499df8a52766f477c3f3bcb754620534f55f', member_id=' '),\n",
       "   'United States'))]"
      ]
     },
     "execution_count": 114,
     "metadata": {},
     "output_type": "execute_result"
    }
   ],
   "source": [
    "geo_logs = logs.keyBy(lambda log: mask_to_class_c(log.ip_address))\\\n",
    "               .join(geo_ips)\n",
    "geo_logs.take(1)"
   ]
  },
  {
   "cell_type": "code",
   "execution_count": 121,
   "metadata": {
    "collapsed": false
   },
   "outputs": [],
   "source": [
    "top_countries = geo_logs.map(lambda item: (item[1][1], 1))\\\n",
    "                        .reduceByKey(lambda acc, i: acc + i)\\\n",
    "                        .top(10, lambda item: item[1])"
   ]
  },
  {
   "cell_type": "code",
   "execution_count": 122,
   "metadata": {
    "collapsed": false
   },
   "outputs": [
    {
     "data": {
      "text/plain": [
       "[('United States', 589512),\n",
       " ('China', 88963),\n",
       " ('\"Iran', 86533),\n",
       " ('\"Korea', 82882),\n",
       " ('Italy', 81870),\n",
       " ('Germany', 62250),\n",
       " ('United Kingdom', 57795),\n",
       " ('Australia', 53897),\n",
       " ('Russian Federation', 45472),\n",
       " ('France', 26063)]"
      ]
     },
     "execution_count": 122,
     "metadata": {},
     "output_type": "execute_result"
    }
   ],
   "source": [
    "top_countries"
   ]
  },
  {
   "cell_type": "markdown",
   "metadata": {},
   "source": [
    "## Structured Data - DataFrame"
   ]
  },
  {
   "cell_type": "code",
   "execution_count": 123,
   "metadata": {
    "collapsed": false
   },
   "outputs": [
    {
     "data": {
      "text/plain": [
       "<pyspark.sql.session.SparkSession at 0x10560be48>"
      ]
     },
     "execution_count": 123,
     "metadata": {},
     "output_type": "execute_result"
    }
   ],
   "source": [
    "spark"
   ]
  },
  {
   "cell_type": "code",
   "execution_count": 127,
   "metadata": {
    "collapsed": false
   },
   "outputs": [
    {
     "data": {
      "text/plain": [
       "DataFrame[_c0: string, _c1: string, _c2: string, _c3: string, _c4: string, _c5: string]"
      ]
     },
     "execution_count": 127,
     "metadata": {},
     "output_type": "execute_result"
    }
   ],
   "source": [
    "spark.read.csv('small-dataset.tsv', sep='|', )"
   ]
  },
  {
   "cell_type": "code",
   "execution_count": 129,
   "metadata": {
    "collapsed": false
   },
   "outputs": [
    {
     "name": "stdout",
     "output_type": "stream",
     "text": [
      "+--------------------+-------------+---+--------------------+--------------------+-------+\n",
      "|                 _c0|          _c1|_c2|                 _c3|             session|    _c5|\n",
      "+--------------------+-------------+---+--------------------+--------------------+-------+\n",
      "|2017-04-10 23:28:...| 2.255.98.242|GET|                   /|5f371127bb18d8a05...|       |\n",
      "|2017-04-11 10:16:...|3.209.247.231|GET|                   /|f2c5b13e8a04413bc...|       |\n",
      "|2017-04-11 08:25:...| 1.130.16.240|GET|     /projects/37002|eca3bc1ed5b93a8d7...|       |\n",
      "|2017-04-10 21:48:...|  1.248.32.48|GET|                   /|a5937f00512070f66...|       |\n",
      "|2017-04-11 07:27:...| 5.35.186.186|GET|      /projects/2353|735fd39364733d490...|643514 |\n",
      "|2017-04-10 19:21:...|   4.3.241.97|GET|     /projects/29417|e12529adfc4982977...|717153 |\n",
      "|2017-04-11 14:01:...|  4.120.96.16|GET|                   /|b1bc88fca1702ff32...|       |\n",
      "|2017-04-11 05:08:...|5.146.187.107|GET|     /projects/12298|08b6de69831e065bd...|       |\n",
      "|2017-04-11 10:50:...|4.186.224.176|GET|     /projects/25070|16c828ea34d810f17...|453808 |\n",
      "|2017-04-11 02:49:...|1.200.122.122|GET|                   /|254ff7ed9896cb047...|       |\n",
      "|2017-04-11 06:48:...| 1.214.39.247|GET|      /projects/5770|ef72246fd180ba884...| 98295 |\n",
      "|2017-04-11 09:14:...|  1.12.89.201|GET|/projects/28040/back|ad44c87703fc3add6...|       |\n",
      "|2017-04-11 12:18:...|4.183.135.127|GET|     /projects/31273|390c43e1e23604b0e...|       |\n",
      "|2017-04-10 21:57:...| 4.175.71.135|GET|             /signup|bb3ad61039459ea9c...|       |\n",
      "|2017-04-11 13:14:...|4.222.227.227|GET|     /projects/22965|a89b58615e8502560...|969443 |\n",
      "|2017-04-11 17:08:...| 4.177.128.64|GET|                   /|79169c8a4f3ece949...|120128 |\n",
      "|2017-04-11 10:50:...|  4.46.234.90|GET|                   /|3b9bf565c7b8265a1...|       |\n",
      "|2017-04-11 13:04:...| 1.236.206.78|GET|     /projects/38187|00c6a9fa71dee3dec...|       |\n",
      "|2017-04-11 04:34:...|    2.18.7.39|GET|             /signup|04da134d5e43c94f7...|       |\n",
      "|2017-04-11 11:13:...| 5.243.138.74|GET|                   /|ebec97897ba0e3e63...|280394 |\n",
      "+--------------------+-------------+---+--------------------+--------------------+-------+\n",
      "only showing top 20 rows\n",
      "\n"
     ]
    }
   ],
   "source": [
    "log_df = spark.read.csv('small-dataset.tsv', sep='|', )\\\n",
    "              .withColumnRenamed('_c4', 'session')\n",
    "log_df.show()"
   ]
  },
  {
   "cell_type": "code",
   "execution_count": 143,
   "metadata": {
    "collapsed": false
   },
   "outputs": [],
   "source": [
    "req_per_session_df = log_df.where(log_df['_c2'] != 'POST')\\\n",
    "                           .groupBy(log_df['session'])\\\n",
    "                           .count().withColumnRenamed('count', 'request_count')"
   ]
  },
  {
   "cell_type": "code",
   "execution_count": 153,
   "metadata": {
    "collapsed": false
   },
   "outputs": [
    {
     "name": "stdout",
     "output_type": "stream",
     "text": [
      "+-----------------+------------------+\n",
      "|              avg|          variance|\n",
      "+-----------------+------------------+\n",
      "|1.898404547236378|1.0598888172494352|\n",
      "+-----------------+------------------+\n",
      "\n"
     ]
    }
   ],
   "source": [
    "import pyspark.sql.functions as sql_func\n",
    "\n",
    "req_per_session_df.select(\n",
    "    sql_func.avg(req_per_session_df['request_count']).alias('avg'), \n",
    "    sql_func.variance(req_per_session_df['request_count']).alias('variance')\n",
    ").show()"
   ]
  },
  {
   "cell_type": "code",
   "execution_count": 152,
   "metadata": {
    "collapsed": false
   },
   "outputs": [
    {
     "name": "stdout",
     "output_type": "stream",
     "text": [
      "+-----------------+------------------+\n",
      "|              avg|          variance|\n",
      "+-----------------+------------------+\n",
      "|1.898404547236378|1.0598888172494352|\n",
      "+-----------------+------------------+\n",
      "\n"
     ]
    }
   ],
   "source": [
    "req_per_session_df.createTempView('RequestPerSession')\n",
    "\n",
    "spark.sql('SELECT avg(request_count) as avg, variance(request_count) as variance FROM RequestPerSession').show()"
   ]
  },
  {
   "cell_type": "code",
   "execution_count": null,
   "metadata": {
    "collapsed": true
   },
   "outputs": [],
   "source": []
  }
 ],
 "metadata": {
  "anaconda-cloud": {},
  "kernelspec": {
   "display_name": "PySpark 2.0",
   "language": "python",
   "name": "pyspark"
  },
  "language_info": {
   "codemirror_mode": {
    "name": "ipython",
    "version": 3
   },
   "file_extension": ".py",
   "mimetype": "text/x-python",
   "name": "python",
   "nbconvert_exporter": "python",
   "pygments_lexer": "ipython3",
   "version": "3.5.2"
  }
 },
 "nbformat": 4,
 "nbformat_minor": 1
}
